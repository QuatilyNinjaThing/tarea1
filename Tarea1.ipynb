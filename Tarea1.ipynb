{
  "metadata": {
    "kernelspec": {
      "name": "python",
      "display_name": "Python (Pyodide)",
      "language": "python"
    },
    "language_info": {
      "codemirror_mode": {
        "name": "python",
        "version": 3
      },
      "file_extension": ".py",
      "mimetype": "text/x-python",
      "name": "python",
      "nbconvert_exporter": "python",
      "pygments_lexer": "ipython3",
      "version": "3.8"
    },
    "jupytext": {
      "formats": "ipynb,md"
    }
  },
  "nbformat_minor": 5,
  "nbformat": 4,
  "cells": [
    {
      "id": "d03962e4-9098-4a1a-9818-f156f0497d07",
      "cell_type": "code",
      "source": "# Proyecto Final: Introducción a la Ciencia de Datos con Jupyterlite",
      "metadata": {
        "trusted": true
      },
      "outputs": [],
      "execution_count": null
    },
    {
      "id": "71f4ac84-a83d-40bc-94e4-3c8ec8af41fc",
      "cell_type": "code",
      "source": "## Introducción\nEste cuaderno presenta conceptos básicos de ciencia de datos, incluyendo lenguajes, bibliotecas y herramientas utilizadas en el campo.\nAdemás, exploraremos expresiones aritméticas y operaciones básicas con Python.",
      "metadata": {
        "trusted": true
      },
      "outputs": [],
      "execution_count": null
    },
    {
      "id": "3c945899-faaf-4954-8b57-035ea6e7193f",
      "cell_type": "code",
      "source": "## Lenguajes de Ciencia de Datos\n1. Python  \n2. R  \n3. SQL  \n4. Julia  \n5. Scala  \n6. Java  ",
      "metadata": {
        "trusted": true
      },
      "outputs": [],
      "execution_count": null
    },
    {
      "id": "ba3c5866-5f3d-4583-bce1-fbe8ce83de9f",
      "cell_type": "code",
      "source": "## Bibliotecas de Ciencia de Datos\n1. pandas  \n2. NumPy  \n3. matplotlib  \n4. seaborn  \n5. scikit-learn  \n6. TensorFlow  \n7. ggplot2  \n",
      "metadata": {
        "trusted": true
      },
      "outputs": [],
      "execution_count": null
    },
    {
      "id": "ea34ab5c-0ec0-4306-9668-255b646f49aa",
      "cell_type": "code",
      "source": "## Herramientas de Ciencia de Datos\n\n| Herramienta    | Uso                                    |\n|----------------|----------------------------------------|\n| Jupyter        | Crear y compartir cuadernos            |\n| RStudio        | Desarrollo con R                       |\n| Anaconda       | Gestión de entornos Python             |\n| GitHub         | Control de versiones y colaboración    |\n| Google Colab   | Ejecución de notebooks en la nube      |\n",
      "metadata": {
        "trusted": true
      },
      "outputs": [],
      "execution_count": null
    },
    {
      "id": "c38e6732-1d85-4efc-b377-d34e67c19916",
      "cell_type": "code",
      "source": "# Operaciones aritméticas en Python\nsuma = 5 + 3\nresta = 10 - 4\nmultiplicacion = 6 * 3\ndivision = 20 / 4\n\nprint(f\"Suma: {suma}\")\nprint(f\"Resta: {resta}\")\nprint(f\"Multiplicación: {multiplicacion}\")\nprint(f\"División: {division}\")\n",
      "metadata": {
        "trusted": true
      },
      "outputs": [
        {
          "name": "stdout",
          "output_type": "stream",
          "text": "Suma: 8\nResta: 6\nMultiplicación: 18\nDivisión: 5.0\n"
        }
      ],
      "execution_count": 3
    },
    {
      "id": "eb1a9586-82b7-4536-a2ce-b80300721ec5",
      "cell_type": "code",
      "source": "# Multiplicación y suma en Python\nresultado_multiplicacion = 5 * 4\nresultado_suma = 10 + 7\n\nprint(\"Multiplicación: 5 * 4 =\", resultado_multiplicacion)\nprint(\"Suma: 10 + 7 =\", resultado_suma)\n",
      "metadata": {
        "trusted": true
      },
      "outputs": [
        {
          "name": "stdout",
          "output_type": "stream",
          "text": "Multiplicación: 5 * 4 = 20\nSuma: 10 + 7 = 17\n"
        }
      ],
      "execution_count": 4
    },
    {
      "id": "1358f690-4d8c-46fe-9e1d-7bfedfcd7424",
      "cell_type": "code",
      "source": "# Conversión de minutos a horas\nminutos = 150\nhoras = minutos / 60\n\nprint(f\"{minutos} minutos equivalen a {horas} horas.\")",
      "metadata": {
        "trusted": true
      },
      "outputs": [
        {
          "name": "stdout",
          "output_type": "stream",
          "text": "150 minutos equivalen a 2.5 horas.\n"
        }
      ],
      "execution_count": 6
    },
    {
      "id": "1ceead33-4a6a-46f5-a30f-aded346cea1e",
      "cell_type": "code",
      "source": "# Lista de objetivos\nobjetivos = [\"Aprender Python\", \"Manejar R\", \"Realizar análisis de datos\", \"Aplicar aprendizaje automático\"]\nfor i, objetivo in enumerate(objetivos, 1):\n    print(f\"{i}. {objetivo}\")\n",
      "metadata": {
        "trusted": true
      },
      "outputs": [
        {
          "name": "stdout",
          "output_type": "stream",
          "text": "1. Aprender Python\n2. Manejar R\n3. Realizar análisis de datos\n4. Aplicar aprendizaje automático\n"
        }
      ],
      "execution_count": 7
    },
    {
      "id": "e550f805-2827-4afa-a985-c824418deb14",
      "cell_type": "code",
      "source": "## Autor  \n**Nombre:** Consuelo Flores \n**Fecha:** 25-03-25\n",
      "metadata": {
        "trusted": true
      },
      "outputs": [],
      "execution_count": null
    }
  ]
}