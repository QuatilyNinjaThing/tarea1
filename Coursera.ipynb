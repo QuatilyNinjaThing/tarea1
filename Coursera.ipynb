{
  "metadata": {
    "kernelspec": {
      "name": "python",
      "display_name": "Python (Pyodide)",
      "language": "python"
    },
    "language_info": {
      "codemirror_mode": {
        "name": "python",
        "version": 3
      },
      "file_extension": ".py",
      "mimetype": "text/x-python",
      "name": "python",
      "nbconvert_exporter": "python",
      "pygments_lexer": "ipython3",
      "version": "3.8"
    },
    "jupytext": {
      "formats": "ipynb,md"
    }
  },
  "nbformat_minor": 5,
  "nbformat": 4,
  "cells": [
    {
      "id": "8160f9b2-4187-4d60-b629-09e2649237b4",
      "cell_type": "markdown",
      "source": "# Proyecto Final - Ciencia de Datos",
      "metadata": {}
    },
    {
      "id": "814a530d-ed9c-4f8e-a758-6100fa10072b",
      "cell_type": "markdown",
      "source": "## Introducción  \nEste cuaderno forma parte del proyecto final del curso de Ciencia de Datos. Aquí exploraremos lenguajes, herramientas y bibliotecas utilizadas en la disciplina, junto con algunos ejemplos de código.",
      "metadata": {}
    },
    {
      "id": "1e9d7b62-efd7-46c5-a7cf-47fbda242dca",
      "cell_type": "markdown",
      "source": "## Lenguajes de Programación en Ciencia de Datos  \nAlgunos lenguajes utilizados en Ciencia de Datos son:  \n- Python  \n- R  \n- SQL  \n- Julia  \n- Scala  ",
      "metadata": {}
    },
    {
      "id": "12912b4a-973a-4c32-8d2d-30c6ab215085",
      "cell_type": "markdown",
      "source": "## Bibliotecas Populares en Ciencia de Datos  \nAlgunas bibliotecas comunes en Ciencia de Datos incluyen:  \n- **Python:** Pandas, NumPy, Matplotlib, Scikit-learn, TensorFlow  \n- **R:** ggplot2, dplyr, caret, tidyr  \n- **Scala:** Breeze, Spark MLlib  \n",
      "metadata": {}
    },
    {
      "id": "ef711fff-e699-4750-9825-d5403d2a481e",
      "cell_type": "markdown",
      "source": "## Herramientas de Ciencia de Datos  \n\n| Herramienta | Descripción |\n|------------|------------|\n| Jupyter Notebook | Entorno interactivo para análisis de datos |\n| RStudio | IDE para R, usado en análisis estadístico |\n| TensorFlow | Biblioteca de aprendizaje profundo |\n| Apache Spark | Procesamiento de datos a gran escala |\n| Power BI | Visualización y análisis de datos |",
      "metadata": {}
    },
    {
      "id": "14b60382-7cb9-4a10-a6f0-37df17dd335d",
      "cell_type": "markdown",
      "source": "## Expresiones Aritméticas en Ciencia de Datos  \nEn programación, las expresiones aritméticas permiten realizar operaciones matemáticas.  \nEjemplos:  \n- Suma: `3 + 5 = 8`  \n- Multiplicación: `4 * 2 = 8`  \n- División: `10 / 2 = 5`  ",
      "metadata": {}
    },
    {
      "id": "eb1a9586-82b7-4536-a2ce-b80300721ec5",
      "cell_type": "code",
      "source": "# Multiplicación y suma\nresultado = (5 * 4) + 10\nprint(\"El resultado es:\", resultado)\n",
      "metadata": {
        "trusted": true
      },
      "outputs": [
        {
          "name": "stdout",
          "output_type": "stream",
          "text": "El resultado es: 30\n"
        }
      ],
      "execution_count": 1
    },
    {
      "id": "1358f690-4d8c-46fe-9e1d-7bfedfcd7424",
      "cell_type": "code",
      "source": "# Conversión de minutos a horas\nminutos = 120\nhoras = minutos / 60\nprint(f\"{minutos} minutos equivalen a {horas} horas\")\n",
      "metadata": {
        "trusted": true
      },
      "outputs": [
        {
          "name": "stdout",
          "output_type": "stream",
          "text": "120 minutos equivalen a 2.0 horas\n"
        }
      ],
      "execution_count": 2
    },
    {
      "id": "00e3702e-7687-46c6-9f06-fa42fe567009",
      "cell_type": "markdown",
      "source": "## Objetivos del Cuaderno  \n1. Aprender sobre herramientas y lenguajes de Ciencia de Datos.  \n2. Practicar operaciones matemáticas con Python.  \n3. Convertir unidades en código.  \n4. Crear y compartir un cuaderno Jupyter.  ",
      "metadata": {}
    },
    {
      "id": "24f36827-90f1-4e82-b174-9bda64dccdc1",
      "cell_type": "markdown",
      "source": "## Autor  \n**Nombre:** Consuelo Flores\n**Fecha:** 29-03-25 \n",
      "metadata": {}
    }
  ]
}